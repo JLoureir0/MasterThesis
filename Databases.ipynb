{
 "cells": [
  {
   "cell_type": "markdown",
   "metadata": {},
   "source": [
    "# Databases"
   ]
  },
  {
   "cell_type": "markdown",
   "metadata": {},
   "source": [
    "Create 3 databases for each type of cancer. The different types in study are skin, stomach and thyroid cancers."
   ]
  },
  {
   "cell_type": "code",
   "execution_count": 10,
   "metadata": {},
   "outputs": [],
   "source": [
    "import pymongo\n",
    "\n",
    "DATABASE_NAMES = [\"skin_cancer_db\", \"stomach_cancer_db\", \"thyroid_cancer_db\"]\n",
    "\n",
    "mongo_client = pymongo.MongoClient(\"mongodb://localhost:27017/\")\n",
    "\n",
    "skin_cancer_db = mongo_client[DATABASE_NAMES[0]]\n",
    "stomach_cancer_db = mongo_client[DATABASE_NAMES[1]]\n",
    "thyroid_cancer_db = mongo_client[DATABASE_NAMES[2]]\n",
    "\n",
    "databases = [skin_cancer_db, stomach_cancer_db, thyroid_cancer_db]"
   ]
  },
  {
   "cell_type": "markdown",
   "metadata": {},
   "source": [
    "Each database has 3 collections: RNA, CNA and Methylation.\n",
    "\n",
    "Each collection has its attributes in a header file located in the `data` folder"
   ]
  },
  {
   "cell_type": "code",
   "execution_count": 6,
   "metadata": {},
   "outputs": [],
   "source": [
    "COLLECTIONS_NAMES = [\"rna\", \"cna\", \"methylation\"]\n",
    "\n",
    "import csv\n",
    "\n",
    "# Array with each collection attributes\n",
    "\n",
    "rna_attributes = csv.reader(open(\"data/rna.header\")).__next__()\n",
    "cna_attributes = csv.reader(open(\"data/cna.header\")).__next__()\n",
    "methylation_attributes = csv.reader(open(\"data/methylation.header\")).__next__()"
   ]
  },
  {
   "cell_type": "markdown",
   "metadata": {},
   "source": [
    "For each collection generate a **dummy** document to insert."
   ]
  },
  {
   "cell_type": "code",
   "execution_count": 7,
   "metadata": {},
   "outputs": [
    {
     "name": "stdout",
     "output_type": "stream",
     "text": [
      " UBE2Q2P2_100134869 0\n",
      " ACAP3_116983 0\n",
      " C3orf16_389161 0\n"
     ]
    }
   ],
   "source": [
    "rna_document = {}\n",
    "\n",
    "for attribute in rna_attributes:\n",
    "    rna_document[attribute] = 0\n",
    "\n",
    "cna_document = {}\n",
    "\n",
    "for attribute in cna_attributes:\n",
    "    cna_document[attribute] = 0\n",
    "\n",
    "methylation_document = {}\n",
    "\n",
    "for attribute in methylation_attributes:\n",
    "    methylation_document[attribute] = 0\n",
    "\n",
    "print(rna_attributes[1],         rna_document[rna_attributes[1]])\n",
    "print(cna_attributes[1],         cna_document[cna_attributes[1]])\n",
    "print(methylation_attributes[1], methylation_document[methylation_attributes[1]])"
   ]
  },
  {
   "cell_type": "markdown",
   "metadata": {},
   "source": [
    "For each database insert the **dummy** document in the correct collection."
   ]
  },
  {
   "cell_type": "code",
   "execution_count": 8,
   "metadata": {},
   "outputs": [],
   "source": [
    "for db in databases:\n",
    "    db[\"rna\"].insert_one(rna_document)\n",
    "    db[\"cna\"].insert_one(cna_document)\n",
    "    db[\"methylation\"].insert_one(methylation_document)"
   ]
  },
  {
   "cell_type": "markdown",
   "metadata": {},
   "source": [
    "Check if the databases exist and have the correct collections"
   ]
  },
  {
   "cell_type": "code",
   "execution_count": 9,
   "metadata": {},
   "outputs": [
    {
     "name": "stdout",
     "output_type": "stream",
     "text": [
      "['admin', 'config', 'local', 'skin_cancer_db', 'stomach_cancer_db', 'thyroid_cancer_db']\n",
      "['methylation', 'cna', 'rna']\n"
     ]
    },
    {
     "data": {
      "text/plain": [
       "1"
      ]
     },
     "execution_count": 9,
     "metadata": {},
     "output_type": "execute_result"
    }
   ],
   "source": [
    "print(mongo_client.list_database_names())\n",
    "print(skin_cancer_db.list_collection_names())\n",
    "skin_cancer_db[\"rna\"].count_documents({})"
   ]
  }
 ],
 "metadata": {
  "kernelspec": {
   "display_name": "Python 3",
   "language": "python",
   "name": "python3"
  },
  "language_info": {
   "codemirror_mode": {
    "name": "ipython",
    "version": 3
   },
   "file_extension": ".py",
   "mimetype": "text/x-python",
   "name": "python",
   "nbconvert_exporter": "python",
   "pygments_lexer": "ipython3",
   "version": "3.6.7"
  }
 },
 "nbformat": 4,
 "nbformat_minor": 2
}
