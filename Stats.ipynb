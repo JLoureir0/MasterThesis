{
 "cells": [
  {
   "cell_type": "markdown",
   "metadata": {},
   "source": [
    "# Stats"
   ]
  },
  {
   "cell_type": "markdown",
   "metadata": {},
   "source": [
    "Connect to the mondo database."
   ]
  },
  {
   "cell_type": "code",
   "execution_count": 1,
   "metadata": {},
   "outputs": [
    {
     "name": "stdout",
     "output_type": "stream",
     "text": [
      "MongoDB: <bound method MongoClient.server_info of MongoClient(host=['localhost:27017'], document_class=dict, tz_aware=False, connect=True)>\n"
     ]
    }
   ],
   "source": [
    "import pymongo\n",
    "\n",
    "mongo_client = pymongo.MongoClient('mongodb://localhost:27017')\n",
    "\n",
    "mongo_client.drop_database('stats')\n",
    "\n",
    "print(\"MongoDB:\", mongo_client.server_info)"
   ]
  },
  {
   "cell_type": "markdown",
   "metadata": {},
   "source": [
    "Create a stats database with a collection named `records` that contains the number of documents for each database's collections."
   ]
  },
  {
   "cell_type": "code",
   "execution_count": 2,
   "metadata": {},
   "outputs": [],
   "source": [
    "for database in mongo_client.list_database_names():\n",
    "    if database not in ('admin','config','local','stats'):\n",
    "        stats = { 'database': database }\n",
    "        collection_records = {}\n",
    "        for collection in mongo_client[database].list_collection_names():\n",
    "            collection_records[collection] = mongo_client[database][collection].count_documents({})\n",
    "        stats['collections'] = collection_records\n",
    "        mongo_client['stats']['records'].insert_one(stats)"
   ]
  },
  {
   "cell_type": "markdown",
   "metadata": {},
   "source": [
    "In the stats database create a new collection named `attributes` that contains all the attributes for each database's collections."
   ]
  },
  {
   "cell_type": "code",
   "execution_count": 3,
   "metadata": {},
   "outputs": [],
   "source": [
    "for database in mongo_client.list_database_names():\n",
    "    if database not in ('admin','config','local','stats'):\n",
    "        for collection in mongo_client[database].list_collection_names():\n",
    "            stats = { \n",
    "                'database': database,\n",
    "                'collection': collection\n",
    "            }\n",
    "            attributes = mongo_client[database][collection].find_one({}).keys()\n",
    "            stats['attributes'] = list(attributes)\n",
    "            stats['attributes'].remove('_id')\n",
    "            mongo_client['stats']['attributes'].insert_one(stats)"
   ]
  }
 ],
 "metadata": {
  "kernelspec": {
   "display_name": "Python 3",
   "language": "python",
   "name": "python3"
  },
  "language_info": {
   "codemirror_mode": {
    "name": "ipython",
    "version": 3
   },
   "file_extension": ".py",
   "mimetype": "text/x-python",
   "name": "python",
   "nbconvert_exporter": "python",
   "pygments_lexer": "ipython3",
   "version": "3.6.8"
  }
 },
 "nbformat": 4,
 "nbformat_minor": 2
}
