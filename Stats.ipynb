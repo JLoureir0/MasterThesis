{
 "cells": [
  {
   "cell_type": "markdown",
   "metadata": {},
   "source": [
    "# Stats"
   ]
  },
  {
   "cell_type": "markdown",
   "metadata": {},
   "source": [
    "Connect to the mondo database."
   ]
  },
  {
   "cell_type": "code",
   "execution_count": 1,
   "metadata": {},
   "outputs": [
    {
     "name": "stdout",
     "output_type": "stream",
     "text": [
      "MongoDB: <bound method MongoClient.server_info of MongoClient(host=['localhost:27017'], document_class=dict, tz_aware=False, connect=True)>\n"
     ]
    }
   ],
   "source": [
    "import pymongo\n",
    "\n",
    "mongo_client = pymongo.MongoClient('mongodb://localhost:27017')\n",
    "\n",
    "mongo_client.drop_database('stats')\n",
    "\n",
    "print(\"MongoDB:\", mongo_client.server_info)"
   ]
  },
  {
   "cell_type": "markdown",
   "metadata": {},
   "source": [
    "Create a stats database with a collection named `database` that contains the number of documents for each database's collections and how many attributes."
   ]
  },
  {
   "cell_type": "code",
   "execution_count": 2,
   "metadata": {},
   "outputs": [],
   "source": [
    "for database in mongo_client.list_database_names():\n",
    "    if database not in ('admin','config','local','stats'):\n",
    "        stats = { 'database': database }\n",
    "        collections_stats = {}\n",
    "        for collection in mongo_client[database].list_collection_names():\n",
    "            collections_stats[collection] = {}\n",
    "            collections_stats[collection]['records'] = mongo_client[database][collection].count_documents({})\n",
    "            collections_stats[collection]['attributes'] = len(list(mongo_client[database][collection].find_one({}).keys()))-1\n",
    "        stats['collections'] = collections_stats\n",
    "        mongo_client['stats']['database'].insert_one(stats)"
   ]
  },
  {
   "cell_type": "markdown",
   "metadata": {},
   "source": [
    "In the stats database create a new collection named `collection` that contains all the attributes for each database's collections."
   ]
  },
  {
   "cell_type": "code",
   "execution_count": 3,
   "metadata": {},
   "outputs": [],
   "source": [
    "for database in mongo_client.list_database_names():\n",
    "    if database not in ('admin','config','local','stats'):\n",
    "        for collection in mongo_client[database].list_collection_names():\n",
    "            stats = { \n",
    "                'database': database,\n",
    "                'collection': collection\n",
    "            }\n",
    "            attributes = mongo_client[database][collection].find_one({}).keys()\n",
    "            stats['attributes'] = list(attributes)\n",
    "            stats['attributes'].remove('_id')\n",
    "            mongo_client['stats']['collection'].insert_one(stats)"
   ]
  },
  {
   "cell_type": "markdown",
   "metadata": {},
   "source": [
    "For each attribute in all database's collections calculate statistics measures."
   ]
  },
  {
   "cell_type": "code",
   "execution_count": 4,
   "metadata": {
    "scrolled": true
   },
   "outputs": [
    {
     "name": "stdout",
     "output_type": "stream",
     "text": [
      "Skin Cancer Database:\n",
      "\tCNA values ...\n",
      "\tCNA values (OK);\n",
      "\tMethylation values ...\n",
      "\tMethylation values (OK);\n",
      "\tRNA values ...\n",
      "\tRNA values (OK).\n",
      "Stomach Cancer Database:\n",
      "\tCNA values (OK);\n",
      "\tMethylation values (OK);\n",
      "\tRNA values (OK).\n",
      "Thyroid Cancer Database:\n",
      "\tCNA values (OK);\n",
      "\tMethylation values (OK);\n",
      "\tRNA values (OK).\n"
     ]
    }
   ],
   "source": [
    "import csv\n",
    "import numpy as np\n",
    "\n",
    "def get_all_values_from_csv(file):\n",
    "    values = {}\n",
    "\n",
    "    with open(file) as csvfile:\n",
    "        reader = csv.DictReader(csvfile)\n",
    "        for row in reader:\n",
    "            for attribute,value in row.items():\n",
    "                if attribute != 'sampleId' and value != 'NA':\n",
    "                    values.setdefault(attribute, []).append(float(value))\n",
    "    return values\n",
    "\n",
    "def insert_values_on_mongo(database, collection, values):\n",
    "    documents = []\n",
    "    for a,v in values.items():\n",
    "        document = {\n",
    "            'database': database,\n",
    "            'collection': collection,\n",
    "            'attribute': a,\n",
    "            'values': v,\n",
    "            'max_value': np.amax(v),\n",
    "            'min_value': np.amin(v),\n",
    "            'mean_value': np.mean(v),\n",
    "            'median_value': np.median(v)\n",
    "        }\n",
    "        documents.append(document)\n",
    "    mongo_client['stats']['statistics'].insert_many(documents)\n",
    "    \n",
    "# skin_cancer_db\n",
    "print(\"Skin Cancer Database:\")\n",
    "\n",
    "print(\"\\tCNA values ...\", end=\"\\r\")\n",
    "cna_values = get_all_values_from_csv('data/skin/cna.csv')\n",
    "insert_values_on_mongo('skin_cancer_db', 'cna', cna_values)\n",
    "print(\"\\tCNA values (OK);\")\n",
    "\n",
    "print(\"\\tMethylation values ...\", end=\"\\r\")\n",
    "methylation_values = get_all_values_from_csv('data/skin/methylation_hm450.csv')\n",
    "insert_values_on_mongo('skin_cancer_db', 'methylation', methylation_values)\n",
    "print(\"\\tMethylation values (OK);\")\n",
    "\n",
    "print(\"\\tRNA values ...\", end=\"\\r\")\n",
    "rna_values = get_all_values_from_csv('data/skin/rnaZscore.csv')\n",
    "insert_values_on_mongo('skin_cancer_db', 'rna', rna_values)\n",
    "print(\"\\tRNA values (OK).\")\n",
    "\n",
    "# stomach_cancer_db\n",
    "print(\"Stomach Cancer Database:\")\n",
    "\n",
    "print(\"\\tCNA values ...\", end=\"\\r\")\n",
    "cna_values = get_all_values_from_csv('data/stomach/cna.csv')\n",
    "insert_values_on_mongo('stomach_cancer_db', 'cna', cna_values)\n",
    "print(\"\\tCNA values (OK);\")\n",
    "\n",
    "print(\"\\tMethylation values ...\", end=\"\\r\")\n",
    "methylation_values = get_all_values_from_csv('data/stomach/methylation_hm450.csv')\n",
    "insert_values_on_mongo('stomach_cancer_db', 'methylation', methylation_values)\n",
    "print(\"\\tMethylation values (OK);\")\n",
    "\n",
    "print(\"\\tRNA values ...\", end=\"\\r\")\n",
    "rna_values = get_all_values_from_csv('data/stomach/rnaZscore.csv')\n",
    "insert_values_on_mongo('stomach_cancer_db', 'rna', rna_values)\n",
    "print(\"\\tRNA values (OK).\")\n",
    "\n",
    "# thyroid_cancer_db\n",
    "print(\"Thyroid Cancer Database:\")\n",
    "\n",
    "print(\"\\tCNA values ...\", end=\"\\r\")\n",
    "cna_values = get_all_values_from_csv('data/thyroid/cna.csv')\n",
    "insert_values_on_mongo('thyroid_cancer_db', 'cna', cna_values)\n",
    "print(\"\\tCNA values (OK);\")\n",
    "\n",
    "print(\"\\tMethylation values ...\", end=\"\\r\")\n",
    "methylation_values = get_all_values_from_csv('data/thyroid/methylation_hm450.csv')\n",
    "insert_values_on_mongo('thyroid_cancer_db', 'methylation', methylation_values)\n",
    "print(\"\\tMethylation values (OK);\")\n",
    "\n",
    "print(\"\\tRNA values ...\", end=\"\\r\")\n",
    "rna_values = get_all_values_from_csv('data/thyroid/rnaZscore.csv')\n",
    "insert_values_on_mongo('thyroid_cancer_db', 'rna', rna_values)\n",
    "print(\"\\tRNA values (OK).\")"
   ]
  },
  {
   "cell_type": "code",
   "execution_count": null,
   "metadata": {},
   "outputs": [],
   "source": []
  }
 ],
 "metadata": {
  "kernelspec": {
   "display_name": "Python 3",
   "language": "python",
   "name": "python3"
  },
  "language_info": {
   "codemirror_mode": {
    "name": "ipython",
    "version": 3
   },
   "file_extension": ".py",
   "mimetype": "text/x-python",
   "name": "python",
   "nbconvert_exporter": "python",
   "pygments_lexer": "ipython3",
   "version": "3.6.8"
  }
 },
 "nbformat": 4,
 "nbformat_minor": 2
}
