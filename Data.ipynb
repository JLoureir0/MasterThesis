{
 "cells": [
  {
   "cell_type": "markdown",
   "metadata": {},
   "source": [
    "# Data"
   ]
  },
  {
   "cell_type": "markdown",
   "metadata": {},
   "source": [
    "Create 3 databases for each type of cancer. The different types in study are **skin**, **stomach** and **thyroid** cancers."
   ]
  },
  {
   "cell_type": "code",
   "execution_count": 1,
   "metadata": {},
   "outputs": [
    {
     "name": "stdout",
     "output_type": "stream",
     "text": [
      "MongoDB: <bound method MongoClient.server_info of MongoClient(host=['localhost:27017'], document_class=dict, tz_aware=False, connect=True)>\n"
     ]
    }
   ],
   "source": [
    "import pymongo\n",
    "\n",
    "DATABASE_NAMES = [\"skin_cancer_db\", \"stomach_cancer_db\", \"thyroid_cancer_db\"]\n",
    "SKIN = 0\n",
    "STOMACH = 1\n",
    "THYROID = 2\n",
    "\n",
    "mongo_client = pymongo.MongoClient(\"mongodb://localhost:27017/\")\n",
    "\n",
    "mongo_client.drop_database(DATABASE_NAMES[SKIN])\n",
    "mongo_client.drop_database(DATABASE_NAMES[STOMACH])\n",
    "mongo_client.drop_database(DATABASE_NAMES[THYROID])\n",
    "\n",
    "skin_cancer_db = mongo_client[DATABASE_NAMES[SKIN]]\n",
    "stomach_cancer_db = mongo_client[DATABASE_NAMES[STOMACH]]\n",
    "thyroid_cancer_db = mongo_client[DATABASE_NAMES[THYROID]]\n",
    "\n",
    "databases = [skin_cancer_db, stomach_cancer_db, thyroid_cancer_db]\n",
    "\n",
    "print(\"MongoDB:\", mongo_client.server_info)"
   ]
  },
  {
   "cell_type": "markdown",
   "metadata": {},
   "source": [
    "Each database has 3 collections: **Gene expression**, **Copy number analysis** and **Human Methylation**.\n",
    "\n",
    "Each collection has its attributes in a header file located in the `data` folder"
   ]
  },
  {
   "cell_type": "code",
   "execution_count": 2,
   "metadata": {},
   "outputs": [
    {
     "name": "stdout",
     "output_type": "stream",
     "text": [
      "CNA attributes:  24777\n",
      "Methylation attributes:  16049\n",
      "RNA attributes:  20441\n"
     ]
    }
   ],
   "source": [
    "COLLECTIONS_NAMES = [\"Copy Number Analysis\", \"Human Methylation\", \"Gene Expression\"]\n",
    "CNA = 0\n",
    "METHYLATION = 1\n",
    "RNA = 2\n",
    "\n",
    "import csv\n",
    "\n",
    "# Array with each collection attributes\n",
    "cna_attributes = csv.reader(open(\"data/cna.header\")).__next__()\n",
    "methylation_attributes = csv.reader(open(\"data/methylation.header\")).__next__()\n",
    "rna_attributes = csv.reader(open(\"data/rna.header\")).__next__()\n",
    "\n",
    "print(\"CNA attributes: \", len(cna_attributes))\n",
    "print(\"Methylation attributes: \", len(methylation_attributes))\n",
    "print(\"RNA attributes: \", len(rna_attributes))"
   ]
  },
  {
   "cell_type": "markdown",
   "metadata": {},
   "source": [
    "The data for each database is inside 3 csv files (one per collection) inside `skin`, `stomach` and `thyroid` folders under the main `data` folder.\n",
    "Extract the data for each database and for each database's collection and insert it into MongoDB."
   ]
  },
  {
   "cell_type": "code",
   "execution_count": 3,
   "metadata": {},
   "outputs": [
    {
     "name": "stdout",
     "output_type": "stream",
     "text": [
      "Skin Cancer Database:\n",
      "\tNumber of CNA records: 367\n",
      "\tNumber of Methylation records: 473\n",
      "\tNumber of RNA records: 472\n",
      "Stomach Cancer Database:\n",
      "\tNumber of CNA records: 441\n",
      "\tNumber of Methylation records: 397\n",
      "\tNumber of RNA records: 415\n",
      "Thyroid Cancer Database:\n",
      "\tNumber of CNA records: 499\n",
      "\tNumber of Methylation records: 567\n",
      "\tNumber of RNA records: 509\n"
     ]
    }
   ],
   "source": [
    "COLLECTIONS_CSV = [\"cna.csv\", \"methylation_hm450.csv\", \"rnaZscore.csv\"]\n",
    "\n",
    "# Inserts a document in the database and collection provided\n",
    "def insert_document(database, collection, document):\n",
    "    database[collection].insert_one(document)\n",
    "\n",
    "# Runs through the csvs to populate the database\n",
    "def populate_database(csvs_folder, database):\n",
    "    cna_csv = csv.DictReader(open(csvs_folder + COLLECTIONS_CSV[CNA]))\n",
    "    methylation_csv = csv.DictReader(open(csvs_folder + COLLECTIONS_CSV[METHYLATION]))\n",
    "    rna_csv = csv.DictReader(open(csvs_folder + COLLECTIONS_CSV[RNA]))\n",
    "    \n",
    "    for cna_document in cna_csv:\n",
    "        insert_document(database, COLLECTIONS_NAMES[CNA], cna_document)\n",
    "\n",
    "    print(\"\\tNumber of CNA records:\", cna_csv.line_num-1)\n",
    "\n",
    "    for methylation_document in methylation_csv:\n",
    "        insert_document(database, COLLECTIONS_NAMES[METHYLATION], methylation_document)\n",
    "\n",
    "    print(\"\\tNumber of Methylation records:\", methylation_csv.line_num-1)\n",
    "\n",
    "    for rna_document in rna_csv:\n",
    "        insert_document(database, COLLECTIONS_NAMES[RNA], rna_document)\n",
    "\n",
    "    print(\"\\tNumber of RNA records:\", rna_csv.line_num-1)\n",
    "\n",
    "\n",
    "# skin_cancer_db\n",
    "print(\"Skin Cancer Database:\")\n",
    "populate_database(\"data/skin/\", skin_cancer_db)\n",
    "\n",
    "# stomach_cancer_db\n",
    "print(\"Stomach Cancer Database:\")\n",
    "populate_database(\"data/stomach/\", stomach_cancer_db)\n",
    "\n",
    "# thyroid_cancer_db\n",
    "print(\"Thyroid Cancer Database:\")\n",
    "populate_database(\"data/thyroid/\", thyroid_cancer_db)"
   ]
  },
  {
   "cell_type": "markdown",
   "metadata": {},
   "source": [
    "Check if the databases exist and have the correct collections and records."
   ]
  },
  {
   "cell_type": "code",
   "execution_count": 4,
   "metadata": {},
   "outputs": [
    {
     "name": "stdout",
     "output_type": "stream",
     "text": [
      "Databases: ['admin', 'config', 'local', 'skin_cancer_db', 'stats', 'stomach_cancer_db', 'thyroid_cancer_db']\n",
      "\n",
      "Skin Cancer:\n",
      "\tCollections: ['Gene Expression', 'Copy Number Analysis', 'Human Methylation']\n",
      "\n",
      "\tCNA records: 367\n",
      "\tMethylation records: 473\n",
      "\tRNA records: 472\n",
      "\n",
      "Stomach Cancer:\n",
      "\tCollections: ['Human Methylation', 'Gene Expression', 'Copy Number Analysis']\n",
      "\n",
      "\tCNA records: 441\n",
      "\tMethylation records: 397\n",
      "\tRNA records: 415\n",
      "\n",
      "Thyroid Cancer:\n",
      "\tCollections: ['Copy Number Analysis', 'Gene Expression', 'Human Methylation']\n",
      "\n",
      "\tCNA records: 499\n",
      "\tMethylation records: 567\n",
      "\tRNA records: 509\n"
     ]
    }
   ],
   "source": [
    "def print_database_stats(database):\n",
    "    print(\"\\tCollections:\", database.list_collection_names())\n",
    "    print(\"\\n\\tCNA records:\", database[COLLECTIONS_NAMES[CNA]].count_documents({}))\n",
    "    print(\"\\tMethylation records:\", database[COLLECTIONS_NAMES[METHYLATION]].count_documents({}))\n",
    "    print(\"\\tRNA records:\", database[COLLECTIONS_NAMES[RNA]].count_documents({}))\n",
    "\n",
    "print(\"Databases:\", mongo_client.list_database_names())\n",
    "\n",
    "print(\"\\nSkin Cancer:\")\n",
    "print_database_stats(skin_cancer_db)\n",
    "\n",
    "print(\"\\nStomach Cancer:\")\n",
    "print_database_stats(stomach_cancer_db)\n",
    "\n",
    "print(\"\\nThyroid Cancer:\")\n",
    "print_database_stats(thyroid_cancer_db)"
   ]
  },
  {
   "cell_type": "code",
   "execution_count": null,
   "metadata": {},
   "outputs": [],
   "source": []
  }
 ],
 "metadata": {
  "kernelspec": {
   "display_name": "Python 3",
   "language": "python",
   "name": "python3"
  },
  "language_info": {
   "codemirror_mode": {
    "name": "ipython",
    "version": 3
   },
   "file_extension": ".py",
   "mimetype": "text/x-python",
   "name": "python",
   "nbconvert_exporter": "python",
   "pygments_lexer": "ipython3",
   "version": "3.6.8"
  }
 },
 "nbformat": 4,
 "nbformat_minor": 2
}
