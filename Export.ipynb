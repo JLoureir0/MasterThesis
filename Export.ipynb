{
 "cells": [
  {
   "cell_type": "markdown",
   "metadata": {},
   "source": [
    "# Export"
   ]
  },
  {
   "cell_type": "code",
   "execution_count": 1,
   "metadata": {},
   "outputs": [
    {
     "data": {
      "text/plain": [
       "<bound method MongoClient.server_info of MongoClient(host=['localhost:27017'], document_class=dict, tz_aware=False, connect=True)>"
      ]
     },
     "execution_count": 1,
     "metadata": {},
     "output_type": "execute_result"
    }
   ],
   "source": [
    "import pymongo\n",
    "\n",
    "mongo_client = pymongo.MongoClient(\"mongodb://localhost:27017\")\n",
    "\n",
    "mongo_client.stomach_cancer_db.drop_collection('all')\n",
    "mongo_client.skin_cancer_db.drop_collection('all')\n",
    "\n",
    "mongo_client.server_info"
   ]
  },
  {
   "cell_type": "code",
   "execution_count": 2,
   "metadata": {},
   "outputs": [
    {
     "name": "stdout",
     "output_type": "stream",
     "text": [
      "Stomach trial unique attributes: 28136\n",
      "Stomach trial total attributes: 61980\n",
      "\n",
      "Skin trial unique attributes: 28084\n",
      "Skin trial total attributes: 61264\n"
     ]
    }
   ],
   "source": [
    "import csv\n",
    "\n",
    "with open('data/stomach/cna.csv', 'r') as infile:\n",
    "    reader = csv.DictReader(infile)\n",
    "    stomach_cna_attributes = reader.fieldnames[1:]\n",
    "    \n",
    "with open('data/stomach/methylation_hm450.csv', 'r') as infile:\n",
    "    reader = csv.DictReader(infile)\n",
    "    stomach_methylation_attributes = reader.fieldnames[1:]\n",
    "\n",
    "with open('data/stomach/rnaZscore.csv', 'r') as infile:\n",
    "    reader = csv.DictReader(infile)\n",
    "    stomach_rna_attributes = reader.fieldnames[1:]\n",
    "\n",
    "stomach_unique_attributes = set(stomach_cna_attributes).union(set(stomach_methylation_attributes)).union(set(stomach_rna_attributes))\n",
    "\n",
    "print('Stomach trial unique attributes:',len(stomach_unique_attributes))\n",
    "print('Stomach trial total attributes:', len(stomach_cna_attributes)+len(stomach_methylation_attributes)+len(stomach_rna_attributes))\n",
    "\n",
    "with open('data/skin/cna.csv', 'r') as infile:\n",
    "    reader = csv.DictReader(infile)\n",
    "    skin_cna_attributes = reader.fieldnames[1:]\n",
    "    \n",
    "with open('data/skin/methylation_hm450.csv', 'r') as infile:\n",
    "    reader = csv.DictReader(infile)\n",
    "    skin_methylation_attributes = reader.fieldnames[1:]\n",
    "\n",
    "with open('data/skin/rnaZscore.csv', 'r') as infile:\n",
    "    reader = csv.DictReader(infile)\n",
    "    skin_rna_attributes = reader.fieldnames[1:]\n",
    "\n",
    "skin_unique_attributes = set(skin_cna_attributes).union(set(skin_methylation_attributes)).union(set(skin_rna_attributes))\n",
    "\n",
    "print('\\nSkin trial unique attributes:', len(skin_unique_attributes))\n",
    "print('Skin trial total attributes:', len(skin_cna_attributes)+len(skin_methylation_attributes)+len(skin_rna_attributes))"
   ]
  },
  {
   "cell_type": "code",
   "execution_count": 3,
   "metadata": {},
   "outputs": [],
   "source": [
    "stomach_samples = set()\n",
    "\n",
    "with open('data/stomach/cna.csv', 'r') as csvfile:\n",
    "        reader = csv.DictReader(csvfile)\n",
    "        for row in reader:\n",
    "            stomach_samples.add(row['sampleId'])\n",
    "            \n",
    "with open('data/stomach/methylation_hm450.csv', 'r') as csvfile:\n",
    "        reader = csv.DictReader(csvfile)\n",
    "        for row in reader:\n",
    "            stomach_samples.add(row['sampleId'])\n",
    "            \n",
    "with open('data/stomach/rnaZscore.csv', 'r') as csvfile:\n",
    "        reader = csv.DictReader(csvfile)\n",
    "        for row in reader:\n",
    "            stomach_samples.add(row['sampleId'])\n",
    "            \n",
    "skin_samples = set()\n",
    "\n",
    "with open('data/skin/cna.csv', 'r') as csvfile:\n",
    "        reader = csv.DictReader(csvfile)\n",
    "        for row in reader:\n",
    "            skin_samples.add(row['sampleId'])\n",
    "            \n",
    "with open('data/skin/methylation_hm450.csv', 'r') as csvfile:\n",
    "        reader = csv.DictReader(csvfile)\n",
    "        for row in reader:\n",
    "            skin_samples.add(row['sampleId'])\n",
    "            \n",
    "with open('data/skin/rnaZscore.csv', 'r') as csvfile:\n",
    "        reader = csv.DictReader(csvfile)\n",
    "        for row in reader:\n",
    "            skin_samples.add(row['sampleId'])"
   ]
  },
  {
   "cell_type": "code",
   "execution_count": 4,
   "metadata": {},
   "outputs": [
    {
     "name": "stdout",
     "output_type": "stream",
     "text": [
      "Stomach samples: 445\n",
      "Skin samples: 474\n"
     ]
    }
   ],
   "source": [
    "print('Stomach samples:', len(stomach_samples))\n",
    "print('Skin samples:', len(skin_samples))"
   ]
  },
  {
   "cell_type": "code",
   "execution_count": 5,
   "metadata": {},
   "outputs": [
    {
     "name": "stdout",
     "output_type": "stream",
     "text": [
      "Stomach cancer:\n"
     ]
    },
    {
     "ename": "NameError",
     "evalue": "name 'samples' is not defined",
     "output_type": "error",
     "traceback": [
      "\u001b[0;31m---------------------------------------------------------------------------\u001b[0m",
      "\u001b[0;31mNameError\u001b[0m                                 Traceback (most recent call last)",
      "\u001b[0;32m<ipython-input-5-e1de76fb3624>\u001b[0m in \u001b[0;36m<module>\u001b[0;34m\u001b[0m\n\u001b[1;32m     28\u001b[0m             \u001b[0mdocument\u001b[0m\u001b[0;34m[\u001b[0m\u001b[0mattribute\u001b[0m\u001b[0;34m+\u001b[0m\u001b[0;34m'-RNA'\u001b[0m\u001b[0;34m]\u001b[0m \u001b[0;34m=\u001b[0m \u001b[0;34m'NA'\u001b[0m\u001b[0;34m\u001b[0m\u001b[0;34m\u001b[0m\u001b[0m\n\u001b[1;32m     29\u001b[0m     \u001b[0mi\u001b[0m \u001b[0;34m+=\u001b[0m \u001b[0;36m1\u001b[0m\u001b[0;34m\u001b[0m\u001b[0;34m\u001b[0m\u001b[0m\n\u001b[0;32m---> 30\u001b[0;31m     \u001b[0mprint\u001b[0m\u001b[0;34m(\u001b[0m\u001b[0;34m'\\tDone:'\u001b[0m\u001b[0;34m,\u001b[0m\u001b[0mi\u001b[0m\u001b[0;34m,\u001b[0m\u001b[0;34m'of'\u001b[0m\u001b[0;34m,\u001b[0m\u001b[0mlen\u001b[0m\u001b[0;34m(\u001b[0m\u001b[0msamples\u001b[0m\u001b[0;34m)\u001b[0m\u001b[0;34m,\u001b[0m \u001b[0mend\u001b[0m\u001b[0;34m=\u001b[0m\u001b[0;34m\"\\r\"\u001b[0m\u001b[0;34m)\u001b[0m\u001b[0;34m\u001b[0m\u001b[0;34m\u001b[0m\u001b[0m\n\u001b[0m\u001b[1;32m     31\u001b[0m     \u001b[0mdocument\u001b[0m\u001b[0;34m[\u001b[0m\u001b[0;34m'CANCER'\u001b[0m\u001b[0;34m]\u001b[0m \u001b[0;34m=\u001b[0m \u001b[0;34m'stomach'\u001b[0m\u001b[0;34m\u001b[0m\u001b[0;34m\u001b[0m\u001b[0m\n\u001b[1;32m     32\u001b[0m     \u001b[0mmongo_client\u001b[0m\u001b[0;34m.\u001b[0m\u001b[0mstomach_cancer_db\u001b[0m\u001b[0;34m[\u001b[0m\u001b[0;34m'all'\u001b[0m\u001b[0;34m]\u001b[0m\u001b[0;34m.\u001b[0m\u001b[0minsert_one\u001b[0m\u001b[0;34m(\u001b[0m\u001b[0mdocument\u001b[0m\u001b[0;34m)\u001b[0m\u001b[0;34m\u001b[0m\u001b[0;34m\u001b[0m\u001b[0m\n",
      "\u001b[0;31mNameError\u001b[0m: name 'samples' is not defined"
     ]
    }
   ],
   "source": [
    "i = 0\n",
    "print('Stomach cancer:')\n",
    "for sample in stomach_samples:\n",
    "    document = {'sampleId': sample}\n",
    "\n",
    "    doc = mongo_client.stomach_cancer_db.cna.find_one({'sampleId':sample},{'_id':0,'sampleId':0})\n",
    "    if doc:\n",
    "        for attribute in stomach_cna_attributes:\n",
    "            document[attribute+'-CNA'] = doc[attribute]\n",
    "    else:\n",
    "        for attribute in stomach_cna_attributes:\n",
    "            document[attribute+'-CNA'] = 'NA'\n",
    "\n",
    "    doc = mongo_client.stomach_cancer_db.methylation.find_one({'sampleId':sample},{'_id':0,'sampleId':0})\n",
    "    if doc:\n",
    "        for attribute in stomach_methylation_attributes:\n",
    "            document[attribute+'-METHYLATION'] = doc[attribute]\n",
    "    else:\n",
    "        for attribute in stomach_methylation_attributes:\n",
    "            document[attribute+'-METHYLATION'] = 'NA'\n",
    "\n",
    "    doc = mongo_client.stomach_cancer_db.rna.find_one({'sampleId':sample},{'_id':0,'sampleId':0})\n",
    "    if doc:\n",
    "        for attribute in stomach_rna_attributes:\n",
    "            document[attribute+'-RNA'] = doc[attribute]\n",
    "    else:\n",
    "        for attribute in stomach_rna_attributes:\n",
    "            document[attribute+'-RNA'] = 'NA'\n",
    "    i += 1\n",
    "    print('\\tDone:',i,'of',len(samples), end=\"\\r\")\n",
    "    document['CANCER'] = 'stomach'\n",
    "    mongo_client.stomach_cancer_db['all'].insert_one(document)\n",
    "print('\\tDone:',i,'of',len(samples))    \n",
    "i = 0\n",
    "print('Skin cancer:')\n",
    "for sample in skin_samples:\n",
    "    document = {'sampleId': sample}\n",
    "\n",
    "    doc = mongo_client.skin_cancer_db.cna.find_one({'sampleId':sample},{'_id':0,'sampleId':0})\n",
    "    if doc:\n",
    "        for attribute in skin_cna_attributes:\n",
    "            document[attribute+'-CNA'] = doc[attribute]\n",
    "    else:\n",
    "        for attribute in skin_cna_attributes:\n",
    "            document[attribute+'-CNA'] = 'NA'\n",
    "\n",
    "    doc = mongo_client.skin_cancer_db.methylation.find_one({'sampleId':sample},{'_id':0,'sampleId':0})\n",
    "    if doc:\n",
    "        for attribute in skin_methylation_attributes:\n",
    "            document[attribute+'-METHYLATION'] = doc[attribute]\n",
    "    else:\n",
    "        for attribute in skin_methylation_attributes:\n",
    "            document[attribute+'-METHYLATION'] = 'NA'\n",
    "\n",
    "    doc = mongo_client.skin_cancer_db.rna.find_one({'sampleId':sample},{'_id':0,'sampleId':0})\n",
    "    if doc:\n",
    "        for attribute in skin_rna_attributes:\n",
    "            document[attribute+'-RNA'] = doc[attribute]\n",
    "    else:\n",
    "        for attribute in skin_rna_attributes:\n",
    "            document[attribute+'-RNA'] = 'NA'\n",
    "    i += 1\n",
    "    print('\\tDone:',i,'of',len(samples), end=\"\\r\")\n",
    "    document['CANCER'] = 'skin'\n",
    "    mongo_client.skin_cancer_db['all'].insert_one(document)"
   ]
  }
 ],
 "metadata": {
  "kernelspec": {
   "display_name": "Python 3",
   "language": "python",
   "name": "python3"
  },
  "language_info": {
   "codemirror_mode": {
    "name": "ipython",
    "version": 3
   },
   "file_extension": ".py",
   "mimetype": "text/x-python",
   "name": "python",
   "nbconvert_exporter": "python",
   "pygments_lexer": "ipython3",
   "version": "3.6.8"
  }
 },
 "nbformat": 4,
 "nbformat_minor": 2
}
